{
  "nbformat": 4,
  "nbformat_minor": 0,
  "metadata": {
    "colab": {
      "provenance": [],
      "include_colab_link": true
    },
    "kernelspec": {
      "name": "python3",
      "display_name": "Python 3"
    },
    "language_info": {
      "name": "python"
    }
  },
  "cells": [
    {
      "cell_type": "markdown",
      "metadata": {
        "id": "view-in-github",
        "colab_type": "text"
      },
      "source": [
        "<a href=\"https://colab.research.google.com/github/wildshark/3cxmobile/blob/main/LeMUR_custom_task.ipynb\" target=\"_parent\"><img src=\"https://colab.research.google.com/assets/colab-badge.svg\" alt=\"Open In Colab\"/></a>"
      ]
    },
    {
      "cell_type": "code",
      "source": [
        "!pip install -U assemblyai"
      ],
      "metadata": {
        "id": "shGRL9DZFL53"
      },
      "execution_count": null,
      "outputs": []
    },
    {
      "cell_type": "code",
      "source": [
        "import assemblyai as aai"
      ],
      "metadata": {
        "id": "03NeekmeIdH4"
      },
      "execution_count": null,
      "outputs": []
    },
    {
      "cell_type": "code",
      "source": [
        "aai.settings.api_key = \"bc5f1b63f2884717acbd64bcf3b205fd\""
      ],
      "metadata": {
        "id": "qzE1UA7cIhAv"
      },
      "execution_count": null,
      "outputs": []
    },
    {
      "cell_type": "code",
      "source": [
        "transcriber = aai.Transcriber()\n",
        "\n",
        "transcript_group = transcriber.transcribe_group(\n",
        "    [\n",
        "        \"example1.mp3\",\n",
        "        \"example2.mp3\"\n",
        "    ]\n",
        ")"
      ],
      "metadata": {
        "id": "UXTdJPgxIks6"
      },
      "execution_count": null,
      "outputs": []
    },
    {
      "cell_type": "code",
      "source": [
        "params = {\n",
        "    \"prompt\":\"Provide an analysis of the transcript. Give a short summary of what the videos are about. Find three sentences that capture the essence of these videos.\"\n",
        "}"
      ],
      "metadata": {
        "id": "PfZDtfyRI0P3"
      },
      "execution_count": null,
      "outputs": []
    },
    {
      "cell_type": "code",
      "source": [
        "result = transcript_group.lemur.task(**params)"
      ],
      "metadata": {
        "id": "zQyTcI__JX40"
      },
      "execution_count": null,
      "outputs": []
    },
    {
      "cell_type": "code",
      "source": [
        "print(result.response)"
      ],
      "metadata": {
        "id": "QZol_Lt9Jc3B",
        "outputId": "26415f61-90da-47f3-d408-fdf458b804f3",
        "colab": {
          "base_uri": "https://localhost:8080/"
        }
      },
      "execution_count": null,
      "outputs": [
        {
          "output_type": "stream",
          "name": "stdout",
          "text": [
            "\n",
            " Here is my analysis of the transcripts:\n",
            "\n",
            "Transcript 1 is about a man discussing the various modes of transportation in New York City and how difficult they can be when traveling with young children. He ends up finding an electric tricycle built for three people that seems to solve this problem. The essence of this video can be captured in these three sentences:\n",
            "\n",
            "1) New York City offers many ways to get around, but they are not ideal for families with kids. \n",
            "2) The man struggles with taking his two daughters to school using the available options.\n",
            "3) He finds an electric tricycle built for three that seems to be the perfect solution for his transportation needs.\n",
            "\n",
            "Transcript 2 is about a man discussing his return to living in New York City after some time away. He talks about realizing how much he missed the city, especially during difficult times. The essence of this video can be captured in these three sentences:\n",
            "\n",
            "1) The man moved away from New York City for a while but always felt a longing to return. \n",
            "2) During a turbulent time in 2020, he regretted not being in the city to experience it with friends. \n",
            "3) After moving back, he feels joy in the little details of the city he missed, like running into old friends and going to familiar places.\n",
            "\n",
            "In summary, the first transcript focuses on transportation challenges in New York City, while the second transcript focuses on a man's relationship with and love for New York City. Both show New York City as an integral part of the lives of the speakers.\n"
          ]
        }
      ]
    },
    {
      "cell_type": "code",
      "source": [],
      "metadata": {
        "id": "H9XB5QnQJeLw"
      },
      "execution_count": null,
      "outputs": []
    }
  ]
}